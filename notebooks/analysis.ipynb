{
 "cells": [
  {
   "cell_type": "markdown",
   "metadata": {},
   "source": [
    "# Hearth Disease Analysis"
   ]
  },
  {
   "cell_type": "markdown",
   "metadata": {},
   "source": [
    "## 0. Preparation"
   ]
  },
  {
   "cell_type": "code",
   "execution_count": null,
   "metadata": {},
   "outputs": [],
   "source": [
    "import duckdb\n",
    "from pathlib import Path\n",
    "\n",
    "from utils.data_info import analyze_data, get_top_correlations, detect_outliers_iqr"
   ]
  },
  {
   "cell_type": "code",
   "execution_count": null,
   "metadata": {},
   "outputs": [],
   "source": [
    "project_dir = Path(\"pyproject.toml\").resolve().parents[1]\n",
    "interim_dir = project_dir / \"data\" / \"interim\""
   ]
  },
  {
   "cell_type": "code",
   "execution_count": 3,
   "metadata": {},
   "outputs": [],
   "source": [
    "conn = duckdb.connect(str(interim_dir / \"db.db\"))\n",
    "df_raw = conn.execute(\"SELECT * FROM heart\").fetchdf()\n",
    "conn.close()"
   ]
  },
  {
   "cell_type": "code",
   "execution_count": null,
   "metadata": {},
   "outputs": [
    {
     "data": {
      "text/plain": [
       "{'columns_info': {'total_columns': 14,\n",
       "  'column_names': ['age',\n",
       "   'sex',\n",
       "   'cp',\n",
       "   'trestbps',\n",
       "   'chol',\n",
       "   'fbs',\n",
       "   'restecg',\n",
       "   'thalach',\n",
       "   'exang',\n",
       "   'oldpeak',\n",
       "   'slope',\n",
       "   'ca',\n",
       "   'thal',\n",
       "   'target']},\n",
       " 'dtypes_info': {'age': 'int64',\n",
       "  'sex': 'int64',\n",
       "  'cp': 'int64',\n",
       "  'trestbps': 'int64',\n",
       "  'chol': 'int64',\n",
       "  'fbs': 'int64',\n",
       "  'restecg': 'int64',\n",
       "  'thalach': 'int64',\n",
       "  'exang': 'int64',\n",
       "  'oldpeak': 'float64',\n",
       "  'slope': 'int64',\n",
       "  'ca': 'int64',\n",
       "  'thal': 'int64',\n",
       "  'target': 'int64'},\n",
       " 'nan_info': {'total_nan': np.int64(0),\n",
       "  'nan_by_column': {},\n",
       "  'nan_percentage_by_column': {}}}"
      ]
     },
     "execution_count": 13,
     "metadata": {},
     "output_type": "execute_result"
    }
   ],
   "source": [
    "analyze_data(\n",
    "    df_raw,\n",
    "    columns_info=True,\n",
    "    dtypes_info=True,\n",
    ")\n"
   ]
  },
  {
   "cell_type": "code",
   "execution_count": 14,
   "metadata": {},
   "outputs": [
    {
     "data": {
      "text/plain": [
       "{'nan_info': {'total_nan': np.int64(0),\n",
       "  'nan_by_column': {},\n",
       "  'nan_percentage_by_column': {}}}"
      ]
     },
     "execution_count": 14,
     "metadata": {},
     "output_type": "execute_result"
    }
   ],
   "source": [
    "analyze_data(\n",
    "    df_raw,\n",
    "    nan_info=True,\n",
    ")"
   ]
  },
  {
   "cell_type": "code",
   "execution_count": 15,
   "metadata": {},
   "outputs": [
    {
     "data": {
      "text/plain": [
       "{'statistics': {'numerical_stats': {'age': {'count': 1025.0,\n",
       "    'mean': 54.43414634146342,\n",
       "    'std': 9.072290233244278,\n",
       "    'min': 29.0,\n",
       "    '25%': 48.0,\n",
       "    '50%': 56.0,\n",
       "    '75%': 61.0,\n",
       "    'max': 77.0},\n",
       "   'sex': {'count': 1025.0,\n",
       "    'mean': 0.6956097560975609,\n",
       "    'std': 0.4603733241196493,\n",
       "    'min': 0.0,\n",
       "    '25%': 0.0,\n",
       "    '50%': 1.0,\n",
       "    '75%': 1.0,\n",
       "    'max': 1.0},\n",
       "   'cp': {'count': 1025.0,\n",
       "    'mean': 0.9424390243902439,\n",
       "    'std': 1.029640743645865,\n",
       "    'min': 0.0,\n",
       "    '25%': 0.0,\n",
       "    '50%': 1.0,\n",
       "    '75%': 2.0,\n",
       "    'max': 3.0},\n",
       "   'trestbps': {'count': 1025.0,\n",
       "    'mean': 131.61170731707318,\n",
       "    'std': 17.516718005376408,\n",
       "    'min': 94.0,\n",
       "    '25%': 120.0,\n",
       "    '50%': 130.0,\n",
       "    '75%': 140.0,\n",
       "    'max': 200.0},\n",
       "   'chol': {'count': 1025.0,\n",
       "    'mean': 246.0,\n",
       "    'std': 51.59251020618206,\n",
       "    'min': 126.0,\n",
       "    '25%': 211.0,\n",
       "    '50%': 240.0,\n",
       "    '75%': 275.0,\n",
       "    'max': 564.0},\n",
       "   'fbs': {'count': 1025.0,\n",
       "    'mean': 0.14926829268292682,\n",
       "    'std': 0.3565266897271575,\n",
       "    'min': 0.0,\n",
       "    '25%': 0.0,\n",
       "    '50%': 0.0,\n",
       "    '75%': 0.0,\n",
       "    'max': 1.0},\n",
       "   'restecg': {'count': 1025.0,\n",
       "    'mean': 0.5297560975609756,\n",
       "    'std': 0.5278775668748921,\n",
       "    'min': 0.0,\n",
       "    '25%': 0.0,\n",
       "    '50%': 1.0,\n",
       "    '75%': 1.0,\n",
       "    'max': 2.0},\n",
       "   'thalach': {'count': 1025.0,\n",
       "    'mean': 149.11414634146342,\n",
       "    'std': 23.005723745977207,\n",
       "    'min': 71.0,\n",
       "    '25%': 132.0,\n",
       "    '50%': 152.0,\n",
       "    '75%': 166.0,\n",
       "    'max': 202.0},\n",
       "   'exang': {'count': 1025.0,\n",
       "    'mean': 0.33658536585365856,\n",
       "    'std': 0.47277237600371186,\n",
       "    'min': 0.0,\n",
       "    '25%': 0.0,\n",
       "    '50%': 0.0,\n",
       "    '75%': 1.0,\n",
       "    'max': 1.0},\n",
       "   'oldpeak': {'count': 1025.0,\n",
       "    'mean': 1.0715121951219515,\n",
       "    'std': 1.175053255150176,\n",
       "    'min': 0.0,\n",
       "    '25%': 0.0,\n",
       "    '50%': 0.8,\n",
       "    '75%': 1.8,\n",
       "    'max': 6.2},\n",
       "   'slope': {'count': 1025.0,\n",
       "    'mean': 1.3853658536585365,\n",
       "    'std': 0.6177552671745918,\n",
       "    'min': 0.0,\n",
       "    '25%': 1.0,\n",
       "    '50%': 1.0,\n",
       "    '75%': 2.0,\n",
       "    'max': 2.0},\n",
       "   'ca': {'count': 1025.0,\n",
       "    'mean': 0.7541463414634146,\n",
       "    'std': 1.0307976650242823,\n",
       "    'min': 0.0,\n",
       "    '25%': 0.0,\n",
       "    '50%': 0.0,\n",
       "    '75%': 1.0,\n",
       "    'max': 4.0},\n",
       "   'thal': {'count': 1025.0,\n",
       "    'mean': 2.32390243902439,\n",
       "    'std': 0.6206602380510298,\n",
       "    'min': 0.0,\n",
       "    '25%': 2.0,\n",
       "    '50%': 2.0,\n",
       "    '75%': 3.0,\n",
       "    'max': 3.0},\n",
       "   'target': {'count': 1025.0,\n",
       "    'mean': 0.5131707317073171,\n",
       "    'std': 0.5000704980788014,\n",
       "    'min': 0.0,\n",
       "    '25%': 0.0,\n",
       "    '50%': 1.0,\n",
       "    '75%': 1.0,\n",
       "    'max': 1.0}}}}"
      ]
     },
     "execution_count": 15,
     "metadata": {},
     "output_type": "execute_result"
    }
   ],
   "source": [
    "analyze_data(\n",
    "    df_raw,\n",
    "    stats_info=True,\n",
    ")"
   ]
  },
  {
   "cell_type": "code",
   "execution_count": 16,
   "metadata": {},
   "outputs": [
    {
     "data": {
      "text/plain": [
       "{'correlation': {'correlation_matrix': {'age': {'age': 1.0,\n",
       "    'sex': -0.10324029759435553,\n",
       "    'cp': -0.07196627394150716,\n",
       "    'trestbps': 0.27112140631607556,\n",
       "    'chol': 0.21982253466576054,\n",
       "    'fbs': 0.12124347870535487,\n",
       "    'restecg': -0.13269616796729033,\n",
       "    'thalach': -0.3902270750315936,\n",
       "    'exang': 0.08816338342423417,\n",
       "    'oldpeak': 0.20813667742811404,\n",
       "    'slope': -0.16910511083470267,\n",
       "    'ca': 0.2715505294833465,\n",
       "    'thal': 0.07229744773281882,\n",
       "    'target': -0.2293235512676108},\n",
       "   'sex': {'age': -0.10324029759435553,\n",
       "    'sex': 1.0,\n",
       "    'cp': -0.04111908876342355,\n",
       "    'trestbps': -0.07897376914509617,\n",
       "    'chol': -0.19825787170698494,\n",
       "    'fbs': 0.02720046098910731,\n",
       "    'restecg': -0.05511721329926214,\n",
       "    'thalach': -0.049365243032544345,\n",
       "    'exang': 0.13915680922171658,\n",
       "    'oldpeak': 0.08468655858668672,\n",
       "    'slope': -0.026666292452793054,\n",
       "    'ca': 0.11172891299897979,\n",
       "    'thal': 0.19842425379861423,\n",
       "    'target': -0.2795007572922623},\n",
       "   'cp': {'age': -0.07196627394150716,\n",
       "    'sex': -0.04111908876342355,\n",
       "    'cp': 1.0,\n",
       "    'trestbps': 0.03817742136221453,\n",
       "    'chol': -0.08164102303738101,\n",
       "    'fbs': 0.0792935856180095,\n",
       "    'restecg': 0.04358061094821041,\n",
       "    'thalach': 0.3068392821874804,\n",
       "    'exang': -0.40151271399953703,\n",
       "    'oldpeak': -0.17473347696619906,\n",
       "    'slope': 0.13163277884568897,\n",
       "    'ca': -0.17620646750862634,\n",
       "    'thal': -0.1633414799602263,\n",
       "    'target': 0.4348542500527371},\n",
       "   'trestbps': {'age': 0.27112140631607556,\n",
       "    'sex': -0.07897376914509617,\n",
       "    'cp': 0.03817742136221453,\n",
       "    'trestbps': 1.0,\n",
       "    'chol': 0.1279774276376497,\n",
       "    'fbs': 0.18176662350423972,\n",
       "    'restecg': -0.12379408984850447,\n",
       "    'thalach': -0.03926406900358624,\n",
       "    'exang': 0.06119696909519584,\n",
       "    'oldpeak': 0.1874341067530995,\n",
       "    'slope': -0.12044531316610671,\n",
       "    'ca': 0.10455371947153316,\n",
       "    'thal': 0.05927617580622798,\n",
       "    'target': -0.1387717337373008},\n",
       "   'chol': {'age': 0.21982253466576054,\n",
       "    'sex': -0.19825787170698494,\n",
       "    'cp': -0.08164102303738101,\n",
       "    'trestbps': 0.1279774276376497,\n",
       "    'chol': 1.0,\n",
       "    'fbs': 0.026917163783475313,\n",
       "    'restecg': -0.14741024063161018,\n",
       "    'thalach': -0.021772091421129725,\n",
       "    'exang': 0.06738223433569071,\n",
       "    'oldpeak': 0.06488031499190895,\n",
       "    'slope': -0.014247867919343135,\n",
       "    'ca': 0.07425934349094813,\n",
       "    'thal': 0.1002441793949048,\n",
       "    'target': -0.09996559423254128},\n",
       "   'fbs': {'age': 0.12124347870535487,\n",
       "    'sex': 0.02720046098910731,\n",
       "    'cp': 0.0792935856180095,\n",
       "    'trestbps': 0.18176662350423972,\n",
       "    'chol': 0.026917163783475313,\n",
       "    'fbs': 1.0,\n",
       "    'restecg': -0.10405124404734185,\n",
       "    'thalach': -0.008865857234762796,\n",
       "    'exang': 0.049260569645559485,\n",
       "    'oldpeak': 0.010859480559536248,\n",
       "    'slope': -0.06190237442862651,\n",
       "    'ca': 0.13715625949608368,\n",
       "    'thal': -0.042177320315125964,\n",
       "    'target': -0.04116354746465125},\n",
       "   'restecg': {'age': -0.13269616796729033,\n",
       "    'sex': -0.05511721329926214,\n",
       "    'cp': 0.04358061094821041,\n",
       "    'trestbps': -0.12379408984850447,\n",
       "    'chol': -0.14741024063161018,\n",
       "    'fbs': -0.10405124404734185,\n",
       "    'restecg': 1.0,\n",
       "    'thalach': 0.04841063734746933,\n",
       "    'exang': -0.06560552501299083,\n",
       "    'oldpeak': -0.05011424982378409,\n",
       "    'slope': 0.08608608551297885,\n",
       "    'ca': -0.07807235470415404,\n",
       "    'thal': -0.020504055217657725,\n",
       "    'target': 0.13446820873908913},\n",
       "   'thalach': {'age': -0.3902270750315936,\n",
       "    'sex': -0.049365243032544345,\n",
       "    'cp': 0.3068392821874804,\n",
       "    'trestbps': -0.03926406900358624,\n",
       "    'chol': -0.021772091421129725,\n",
       "    'fbs': -0.008865857234762796,\n",
       "    'restecg': 0.04841063734746933,\n",
       "    'thalach': 1.0,\n",
       "    'exang': -0.3802808723919557,\n",
       "    'oldpeak': -0.34979616314239503,\n",
       "    'slope': 0.395307843482417,\n",
       "    'ca': -0.20788841630682123,\n",
       "    'thal': -0.0980681651578675,\n",
       "    'target': 0.4228954964828723},\n",
       "   'exang': {'age': 0.08816338342423417,\n",
       "    'sex': 0.13915680922171658,\n",
       "    'cp': -0.40151271399953703,\n",
       "    'trestbps': 0.06119696909519584,\n",
       "    'chol': 0.06738223433569071,\n",
       "    'fbs': 0.049260569645559485,\n",
       "    'restecg': -0.06560552501299083,\n",
       "    'thalach': -0.3802808723919557,\n",
       "    'exang': 1.0,\n",
       "    'oldpeak': 0.31084376050711815,\n",
       "    'slope': -0.26733547081445297,\n",
       "    'ca': 0.10784854280195345,\n",
       "    'thal': 0.19720103830526267,\n",
       "    'target': -0.4380285500558459},\n",
       "   'oldpeak': {'age': 0.20813667742811404,\n",
       "    'sex': 0.08468655858668672,\n",
       "    'cp': -0.17473347696619906,\n",
       "    'trestbps': 0.1874341067530995,\n",
       "    'chol': 0.06488031499190895,\n",
       "    'fbs': 0.010859480559536248,\n",
       "    'restecg': -0.05011424982378409,\n",
       "    'thalach': -0.34979616314239503,\n",
       "    'exang': 0.31084376050711815,\n",
       "    'oldpeak': 1.0,\n",
       "    'slope': -0.5751885364375171,\n",
       "    'ca': 0.22181602798736094,\n",
       "    'thal': 0.20267202663210337,\n",
       "    'target': -0.438441270111945},\n",
       "   'slope': {'age': -0.16910511083470267,\n",
       "    'sex': -0.026666292452793054,\n",
       "    'cp': 0.13163277884568897,\n",
       "    'trestbps': -0.12044531316610671,\n",
       "    'chol': -0.014247867919343135,\n",
       "    'fbs': -0.06190237442862651,\n",
       "    'restecg': 0.08608608551297885,\n",
       "    'thalach': 0.395307843482417,\n",
       "    'exang': -0.26733547081445297,\n",
       "    'oldpeak': -0.5751885364375171,\n",
       "    'slope': 1.0,\n",
       "    'ca': -0.07344040956153476,\n",
       "    'thal': -0.09409006281152642,\n",
       "    'target': 0.3455117514359985},\n",
       "   'ca': {'age': 0.2715505294833465,\n",
       "    'sex': 0.11172891299897979,\n",
       "    'cp': -0.17620646750862634,\n",
       "    'trestbps': 0.10455371947153316,\n",
       "    'chol': 0.07425934349094813,\n",
       "    'fbs': 0.13715625949608368,\n",
       "    'restecg': -0.07807235470415404,\n",
       "    'thalach': -0.20788841630682123,\n",
       "    'exang': 0.10784854280195345,\n",
       "    'oldpeak': 0.22181602798736094,\n",
       "    'slope': -0.07344040956153476,\n",
       "    'ca': 1.0,\n",
       "    'thal': 0.149013867926428,\n",
       "    'target': -0.3820852890386709},\n",
       "   'thal': {'age': 0.07229744773281882,\n",
       "    'sex': 0.19842425379861423,\n",
       "    'cp': -0.1633414799602263,\n",
       "    'trestbps': 0.05927617580622798,\n",
       "    'chol': 0.1002441793949048,\n",
       "    'fbs': -0.042177320315125964,\n",
       "    'restecg': -0.020504055217657725,\n",
       "    'thalach': -0.0980681651578675,\n",
       "    'exang': 0.19720103830526267,\n",
       "    'oldpeak': 0.20267202663210337,\n",
       "    'slope': -0.09409006281152642,\n",
       "    'ca': 0.149013867926428,\n",
       "    'thal': 1.0,\n",
       "    'target': -0.33783815045718574},\n",
       "   'target': {'age': -0.2293235512676108,\n",
       "    'sex': -0.2795007572922623,\n",
       "    'cp': 0.4348542500527371,\n",
       "    'trestbps': -0.1387717337373008,\n",
       "    'chol': -0.09996559423254128,\n",
       "    'fbs': -0.04116354746465125,\n",
       "    'restecg': 0.13446820873908913,\n",
       "    'thalach': 0.4228954964828723,\n",
       "    'exang': -0.4380285500558459,\n",
       "    'oldpeak': -0.438441270111945,\n",
       "    'slope': 0.3455117514359985,\n",
       "    'ca': -0.3820852890386709,\n",
       "    'thal': -0.33783815045718574,\n",
       "    'target': 1.0}},\n",
       "  'top_correlations': {('oldpeak', 'slope'): 0.5751885364375171,\n",
       "   ('oldpeak', 'target'): 0.438441270111945,\n",
       "   ('exang', 'target'): 0.4380285500558459,\n",
       "   ('cp', 'target'): 0.4348542500527371,\n",
       "   ('thalach', 'target'): 0.4228954964828723}}}"
      ]
     },
     "execution_count": 16,
     "metadata": {},
     "output_type": "execute_result"
    }
   ],
   "source": [
    "analyze_data(\n",
    "    df_raw,\n",
    "    correlation_info=True,\n",
    ")"
   ]
  },
  {
   "cell_type": "code",
   "execution_count": 17,
   "metadata": {},
   "outputs": [
    {
     "name": "stderr",
     "output_type": "stream",
     "text": [
      "/var/folders/ck/tjjfccc56_91k5hxjw1bkljh0000gn/T/ipykernel_89117/1021148894.py:155: DeprecationWarning: Converting `np.inexact` or `np.floating` to a dtype is deprecated. The current result is `float64` which is not strictly correct.\n",
      "  case np.number:\n",
      "/var/folders/ck/tjjfccc56_91k5hxjw1bkljh0000gn/T/ipykernel_89117/1021148894.py:155: DeprecationWarning: Converting `np.inexact` or `np.floating` to a dtype is deprecated. The current result is `float64` which is not strictly correct.\n",
      "  case np.number:\n"
     ]
    },
    {
     "data": {
      "text/plain": [
       "{'outliers': {'oldpeak': {'lower_bound': -2.7,\n",
       "   'upper_bound': 4.5,\n",
       "   'num_outliers': 7,\n",
       "   'outlier_percentage': 0.6829268292682927}}}"
      ]
     },
     "execution_count": 17,
     "metadata": {},
     "output_type": "execute_result"
    }
   ],
   "source": [
    "analyze_data(\n",
    "    df_raw,\n",
    "    outlier_info=True,\n",
    ")"
   ]
  },
  {
   "cell_type": "code",
   "execution_count": 18,
   "metadata": {},
   "outputs": [
    {
     "data": {
      "text/plain": [
       "{'target_analysis': {'count': {1: 526, 0: 499},\n",
       "  'percentage': {1: 51.32, 0: 48.68},\n",
       "  'class_balance': 'balanced',\n",
       "  'mean_values_by_class': {'age': {0: 56.569138276553105,\n",
       "    1: 52.40874524714829},\n",
       "   'sex': {0: 0.8276553106212425, 1: 0.5703422053231939},\n",
       "   'cp': {0: 0.48296593186372744, 1: 1.3783269961977187},\n",
       "   'trestbps': {0: 134.1062124248497, 1: 129.24524714828897},\n",
       "   'chol': {0: 251.2925851703407, 1: 240.97908745247148},\n",
       "   'fbs': {0: 0.16432865731462926, 1: 0.13498098859315588},\n",
       "   'restecg': {0: 0.45691382765531063, 1: 0.5988593155893536},\n",
       "   'thalach': {0: 139.1302605210421, 1: 158.58555133079847},\n",
       "   'exang': {0: 0.5490981963927856, 1: 0.13498098859315588},\n",
       "   'oldpeak': {0: 1.6002004008016033, 1: 0.5699619771863118},\n",
       "   'slope': {0: 1.1663326653306614, 1: 1.5931558935361216},\n",
       "   'ca': {0: 1.1583166332665331, 1: 0.37072243346007605},\n",
       "   'thal': {0: 2.5390781563126255, 1: 2.1197718631178706},\n",
       "   'target': {0: 0.0, 1: 1.0}}}}"
      ]
     },
     "execution_count": 18,
     "metadata": {},
     "output_type": "execute_result"
    }
   ],
   "source": [
    "analyze_data(\n",
    "    df_raw,\n",
    "    target_analysis=True,\n",
    ")"
   ]
  },
  {
   "cell_type": "code",
   "execution_count": 19,
   "metadata": {},
   "outputs": [
    {
     "data": {
      "text/plain": [
       "{('oldpeak', 'slope'): 0.5751885364375171,\n",
       " ('oldpeak', 'target'): 0.438441270111945,\n",
       " ('exang', 'target'): 0.4380285500558459,\n",
       " ('cp', 'target'): 0.4348542500527371,\n",
       " ('thalach', 'target'): 0.4228954964828723,\n",
       " ('cp', 'exang'): 0.40151271399953703,\n",
       " ('thalach', 'slope'): 0.395307843482417,\n",
       " ('age', 'thalach'): 0.3902270750315936,\n",
       " ('ca', 'target'): 0.3820852890386709,\n",
       " ('thalach', 'exang'): 0.3802808723919557}"
      ]
     },
     "execution_count": 19,
     "metadata": {},
     "output_type": "execute_result"
    }
   ],
   "source": [
    "get_top_correlations(df_raw.corr(), 10)"
   ]
  },
  {
   "cell_type": "code",
   "execution_count": 20,
   "metadata": {},
   "outputs": [
    {
     "name": "stderr",
     "output_type": "stream",
     "text": [
      "/var/folders/ck/tjjfccc56_91k5hxjw1bkljh0000gn/T/ipykernel_89117/1021148894.py:155: DeprecationWarning: Converting `np.inexact` or `np.floating` to a dtype is deprecated. The current result is `float64` which is not strictly correct.\n",
      "  case np.number:\n",
      "/var/folders/ck/tjjfccc56_91k5hxjw1bkljh0000gn/T/ipykernel_89117/1021148894.py:155: DeprecationWarning: Converting `np.inexact` or `np.floating` to a dtype is deprecated. The current result is `float64` which is not strictly correct.\n",
      "  case np.number:\n"
     ]
    },
    {
     "data": {
      "text/plain": [
       "{'oldpeak': {'lower_bound': -2.7,\n",
       "  'upper_bound': 4.5,\n",
       "  'num_outliers': 7,\n",
       "  'outlier_percentage': 0.6829268292682927}}"
      ]
     },
     "execution_count": 20,
     "metadata": {},
     "output_type": "execute_result"
    }
   ],
   "source": [
    "detect_outliers_iqr(df_raw)"
   ]
  }
 ],
 "metadata": {
  "kernelspec": {
   "display_name": ".venv",
   "language": "python",
   "name": "python3"
  },
  "language_info": {
   "codemirror_mode": {
    "name": "ipython",
    "version": 3
   },
   "file_extension": ".py",
   "mimetype": "text/x-python",
   "name": "python",
   "nbconvert_exporter": "python",
   "pygments_lexer": "ipython3",
   "version": "3.13.2"
  }
 },
 "nbformat": 4,
 "nbformat_minor": 2
}
